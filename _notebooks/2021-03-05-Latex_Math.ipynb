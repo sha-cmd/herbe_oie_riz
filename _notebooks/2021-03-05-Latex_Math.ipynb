{
 "cells": [
  {
   "cell_type": "markdown",
   "metadata": {},
   "source": [
    "# \"Math en Latex\"\n",
    "> De la notation en latex pour les mathématiques\n",
    "\n",
    "- categories: [statistiques] # A changer\n",
    "- image: images/statistics/statistics.png # A changer\n",
    "- comments: true\n",
    "- hide: true"
   ]
  },
  {
   "cell_type": "markdown",
   "metadata": {},
   "source": [
    "## Greek letters\n",
    " \t\\alpha $\\alpha$ A \t \\nu N $\\nu$ $N$\n",
    " \t$\\beta$ $B$ \t\\xi \\Xi  \t$\\xi$ $\\Xi$\n",
    "\\gamma \\Gamma  \t$\\gamma$ $\\Gamma$ \to O \t$o$ $O$\n",
    "\\delta \\Delta } \t\\delta \\Delta \t\\pi \\Pi } \t\\pi \\Pi\n",
    "\\epsilon \\varepsilon E\\;} \t\\epsilon \\varepsilon E \t\\rho \\varrho P\\;} \t\\rho\\varrho P\n",
    "\\zeta Z} \t\\zeta Z \t\\sigma \\,\\!\\Sigma \\;} \t\\sigma \\Sigma\n",
    "\\eta H} \t\\eta H \t\\tau T} \t\\tau T\n",
    "\\theta \\vartheta \\Theta } \t\\theta \\vartheta \\Theta \t\\upsilon \\Upsilon } \t\\upsilon \\Upsilon\n",
    "\\iota I} \t\\iota I \t\\phi \\varphi \\Phi } \t\\phi \\varphi \\Phi\n",
    "\\kappa K} \t\\kappa K \t\\chi X} \t\\chi X\n",
    "\\lambda \\Lambda \\;} \t\\lambda \\Lambda \t\\psi \\Psi } \t\\psi \\Psi\n",
    "\\mu M} \t\\mu M \t\\omega \\Omega } \t\\omega \\Omega\n",
    "Arrows\n",
    "\\leftarrow } \t\\leftarrow \t\\Leftarrow } \t\\Leftarrow\n",
    "\\rightarrow } \t\\rightarrow \t\\Rightarrow \\;} \t\\Rightarrow\n",
    "\\leftrightarrow } \t\\leftrightarrow \t\\rightleftharpoons } \t\\rightleftharpoons\n",
    "\\uparrow } \t\\uparrow \t\\downarrow } \t\\downarrow\n",
    "\\Uparrow \\;} \t\\Uparrow \t\\Downarrow } \t\\Downarrow\n",
    "\\Leftrightarrow \\;} \t\\Leftrightarrow \t\\Updownarrow } \t\\Updownarrow\n",
    "\\mapsto } \t\\mapsto \t\\longmapsto \\;} \t\\longmapsto\n",
    "\\nearrow } \t\\nearrow \t\\searrow } \t\\searrow\n",
    "\\swarrow } \t\\swarrow \t\\nwarrow } \t\\nwarrow\n",
    "\\leftharpoonup } \t\\leftharpoonup \t\\rightharpoonup } \t\\rightharpoonup\n",
    "\\leftharpoondown } \t\\leftharpoondown \t\\rightharpoondown } \t\\rightharpoondown \t\t\n",
    "Miscellaneous symbols\n",
    "\\infty \\;\\;} \t\\infty \t\\forall \\;} \t\\forall\n",
    "\\Re } \t\\Re \t\\Im } \t\\Im\n",
    "\\nabla } \t\\nabla \t\\exists } \t\\exists\n",
    "\\partial } \t\\partial \t\\nexists } \t\\nexists\n",
    "\\emptyset } \t\\emptyset \t\\varnothing \\;} \t\\varnothing\n",
    "\\wp } \t\\wp \t\\complement } \t\\complement\n",
    "\\neg } \t\\neg \t\\cdots } \t\\cdots\n",
    "\\square } \t\\square \t\\surd } \t\\surd\n",
    "\\blacksquare } \t\\blacksquare \t\\triangle } \t\\triangle\n",
    "Binary Operation/Relation Symbols\n",
    "\\times } \t\\times \t\\times } \t\\times\n",
    "\\div } \t\\div \t\\cap } \t\\cap\n",
    "\\cup } \t\\cup \t\\neq \\;} \t\\neq\n",
    "\\leq } \t\\leq \t\\geq } \t\\geq\n",
    "\\in } \t\\in \t\\perp \\;} \t\\perp\n",
    "\\notin } \t\\notin \t\\subset } \t\\subset\n",
    "\\simeq } \t\\simeq \t\\approx } \t\\approx\n",
    "\\wedge } \t\\wedge \t\\vee } \t\\vee\n",
    "\\oplus \\;} \t\\oplus \t\\otimes } \t\\otimes\n",
    "\\Box } \t\\Box \t\\boxtimes } \t\\boxtimes\n",
    "\n",
    "\\equiv } \t\\equiv \t\\cong } \t\\cong\n"
   ]
  }
 ],
 "metadata": {
  "kernelspec": {
   "display_name": "Python 3",
   "language": "python",
   "name": "python3"
  },
  "language_info": {
   "codemirror_mode": {
    "name": "ipython",
    "version": 3
   },
   "file_extension": ".py",
   "mimetype": "text/x-python",
   "name": "python",
   "nbconvert_exporter": "python",
   "pygments_lexer": "ipython3",
   "version": "3.8.3"
  }
 },
 "nbformat": 4,
 "nbformat_minor": 4
}
