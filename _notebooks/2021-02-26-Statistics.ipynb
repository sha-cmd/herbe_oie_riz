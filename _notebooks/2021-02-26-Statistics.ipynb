{
 "cells": [
  {
   "cell_type": "markdown",
   "metadata": {},
   "source": [
    "# \"Statistiques\"\n",
    "> Quelques rappel sur les outils statistiques.\n",
    "\n",
    "- categories: [statistiques]\n",
    "- image: images/statistics/statistics.png\n",
    "- comments: true\n",
    "- hide: true"
   ]
  },
  {
   "cell_type": "markdown",
   "metadata": {},
   "source": [
    "## Indépendance\n",
    "\n",
    "* Deux événements sont indépendants si ce qui suit est vrai : \n",
    "\n",
    "$P(A|B) = P(A)\\cdot P(B|A) = P(B)\\cdot P(A ET B)$\n",
    "\n",
    "$P(A ET B) = P(A)\\cdot P(B)$\n",
    "\n",
    "Quand P(B) ne vaut ni 0, ni 1, les deux événements A et B sont indépendant si :\n",
    "\n",
    "$P(A) = P(A|B)$\n",
    "\n",
    "* Deux événements sont indépendants si la connaissance que l’un s’est produit n’affecte pas la chance que l’autre se produise.\n",
    "\n",
    "### Prouver l’indépendance de deux variables (1 condition parmi les 3 suivantes suffit) :\n",
    "\n",
    "* Si deux événements ne sont PAS indépendants, alors nous disons qu’ils sont indépendants. \n",
    "\n",
    "L’échantillonage peut être fait avec replacement ou sans replacement :\n",
    "\n",
    "1. Avec replacement : Lorsque l’échantillonage est réalisé avec replacement, les événements sont considérés comme indépendants, ce qui signifie que les résultats du premier ne change pas le résultat du deuxième prélèvement.\n",
    "    \n",
    "2. Sans replacement : Lorsque l’échantillonage est réalisé sans replacement, chaque membre d’une population peut être choisi uniquement une fois. Dans ce cas les probabilités pour le deuxième choix sont affectées par le résultat du premier choix. Les événements sont considérés comme dépendants ou non indépendants."
   ]
  },
  {
   "cell_type": "markdown",
   "metadata": {},
   "source": [
    "## Distribution Binomiale\n",
    "\n",
    "Il existe trois caractéristiques de la distribution binomiale.\n",
    "\n",
    "1-. Il existe un nombre fixe d’essais. La lettre $n$ désigne le nombre d’essais. C’est le cas dans la répétition d’une expérience.\n",
    "\n",
    "2. Il n’y a que deux résultats possibles, «succés» ou «échecs», pour chaque essais. La lettre $p$ indique la probabilité de succés sur un essai, et $q$ indique la probabilité d’échec sur un essai. $p + q = 1$\n",
    "\n",
    "3. Les essais $n$ sont indépendants et sont répétés dans des conditions identiques. Comme les essais sont indépendants, les probabilités $p$ et $q$ sont les mêmes pour chaque essais.\n",
    "\n",
    "La loi de comportement est $f(k) = \\binom{n}{k}p^k(1-p)^{n-k}$"
   ]
  },
  {
   "cell_type": "code",
   "execution_count": 1,
   "metadata": {},
   "outputs": [],
   "source": [
    "# Importing scipy \n",
    "from scipy.stats import binom"
   ]
  },
  {
   "cell_type": "code",
   "execution_count": 2,
   "metadata": {},
   "outputs": [
    {
     "data": {
      "text/plain": [
       "0.2304"
      ]
     },
     "execution_count": 2,
     "metadata": {},
     "output_type": "execute_result"
    }
   ],
   "source": [
    "n, p, k, loc = 5, 0.4, 3, 0# k est l’essais qui nous intéresse pour la mesure\n",
    "binom.pmf(k - loc, n, p)"
   ]
  },
  {
   "cell_type": "markdown",
   "metadata": {},
   "source": [
    "## Distribution Géométrique\n",
    "\n",
    "Il existe trois caractéristiques principales d’une expérience géométrique.\n",
    "\n",
    "1. Il y a un ou plusieurs essais de Bernoulli avec tous les échecs sauf le dernier, qui est un succés. En d’autres termes, vous répétez ce que vous faites jusqu’au premier succés. Ensuite, vous arrêtez.\n",
    "\n",
    "2. En théorie le nombre d’essais peut durer indéfiniment. Il doit y avoir au moins un essai.\n",
    "\n",
    "3. La probabilité $p$ d’un succés et la probabilité $q$ d’un échec sont les mêmes pour chaque essai. $p + q = 1$ et $q = 1 - p$. La probabilité d’obtenir un 3 en lançant un dé est toujours de $\\frac{1}{6}$.\n",
    "\n",
    "La probabilité d’obtenir un 3 au cinquième lancé est : $(\\frac{5}{6})\\cdot(\\frac{5}{6})\\cdot(\\frac{5}{6})\\cdot(\\frac{5}{6})\\cdot(\\frac{1}{6}) = 0.080375514403293$\n",
    "\n",
    "La loi de comportement est $f(k) = (1 - p)^{(k-1)}p$"
   ]
  },
  {
   "cell_type": "code",
   "execution_count": 3,
   "metadata": {},
   "outputs": [],
   "source": [
    "# Importing scipy\n",
    "from scipy.stats import geom"
   ]
  },
  {
   "cell_type": "code",
   "execution_count": 4,
   "metadata": {},
   "outputs": [
    {
     "data": {
      "text/plain": [
       "0.08037551440329219"
      ]
     },
     "execution_count": 4,
     "metadata": {},
     "output_type": "execute_result"
    }
   ],
   "source": [
    "p, k, loc = 1/6, 5, 0 # loc sert à décalé la position de départ du décompte de la distribution. \n",
    "geom.pmf(k - loc, p)"
   ]
  },
  {
   "cell_type": "markdown",
   "metadata": {},
   "source": [
    "## Distribution Hypergéométrique\n",
    "\n",
    "Il existe cinq caractéristiques d’une expérience hypergéométrique\n",
    "\n",
    "1. Vous prélevez des échantillons de deux groupes.\n",
    "\n",
    "2. Vous êtes concerné par un groupe d’intérêt, appelé le premier groupe.\n",
    "\n",
    "3. Vous échantilloner sans remplacement à partir des groupes combinés. Par exemple,  vous voulez choisir une équipe de softball parmi un groupe combiné de 11 hommes et 13 femmes. L'équipe se compose de dix joueurs. \n",
    "\n",
    "4. Chaque prélèvement n'est pas indépendant, car l'échantillonnage est sans remplacement. Dans l'exemple du softball, la probabilité de choisir une femme en premier est de $\\frac{13}{24}$. La probabilité de choisir un homme en second est $\\frac{11}{23}$ si une femme a été choisie en premier. C'est $\\frac{10}{23}$ si un homme a été choisi en premier. La probabilité du deuxième choix dépend de ce qui s'est passé lors du premier choix.\n",
    "\n",
    "5. Vous ne traitez pas avec les essais de Bernoulli. Les résultats d'une expérience hypergéométrique correspondent à une distribution de probabilité hypergéométrique. La variable aléatoire $X = $le nombre d'items du groupe d'intérêt.\n",
    "\n",
    "La probabilité de masse est : $p(k, M, n, N) = \\frac{\\binom{n}{k}\\binom{M - n}{N - k}}{\\binom{M}{N}}$\n",
    "\n",
    "le coefficient binomial est : $\\binom{n}{k}≡\\frac{n!}{k!(n - k)!}$\n"
   ]
  },
  {
   "cell_type": "code",
   "execution_count": 5,
   "metadata": {},
   "outputs": [],
   "source": [
    "# importing scipy\n",
    "from scipy.stats import hypergeom"
   ]
  },
  {
   "cell_type": "code",
   "execution_count": 15,
   "metadata": {},
   "outputs": [
    {
     "data": {
      "text/plain": [
       "0.19865841073271373"
      ]
     },
     "execution_count": 15,
     "metadata": {},
     "output_type": "execute_result"
    }
   ],
   "source": [
    "k, M, n, N = 3, 20, 7, 12 # k nombre d’éléments du groupe d’intérêt tirés, M nombre d’éléments combinés, \n",
    "                          # n nombre d’éléments du premier groupe, N nombre d’éléments tirés\n",
    "hypergeom.pmf(k - loc, M, n, N)"
   ]
  },
  {
   "cell_type": "markdown",
   "metadata": {},
   "source": [
    "## Distribution de Poisson\n",
    "Il existe deux caractéristiques principales d’une expérience de Poisson.\n",
    "\n",
    "1. La distribution de probabilité de Poisson donne la probabilité qu'un certain nombre d'événements se produisent dans un intervalle de temps ou d'espace fixe si ces événements se produisent avec un taux moyen connu et indépendamment du temps écoulé depuis le dernier événement. Par exemple, un éditeur de livre pourrait être intéressé par le nombre de mots mal orthographiés dans un livre particulier. Il se peut qu'en moyenne, il y ait cinq mots mal orthographiés sur 100 pages. L'intervalle correspond aux 100 pages. \n",
    "\n",
    "2. La distribution de Poisson peut être utilisée pour approcher le binôme si la probabilité de succès est \"petite\" (comme 0,01) et le nombre d'essais est \"grand\" (comme 1 000). $n$ est le nombre d'essais et $p$ la probabilité d'un \"succès\". La variable aléatoire $X =$ le nombre d'occurrences dans l'intervalle d'intérêt. \n",
    "\n",
    "La probabilité de masse est : $f(k) = exp(-\\mu)\\frac{\\mu^{k}}{k!}$ pour $k\\ge0$"
   ]
  },
  {
   "cell_type": "code",
   "execution_count": 16,
   "metadata": {},
   "outputs": [],
   "source": [
    "# importing scipy\n",
    "from scipy.stats import poisson"
   ]
  },
  {
   "cell_type": "code",
   "execution_count": 26,
   "metadata": {},
   "outputs": [
    {
     "data": {
      "text/plain": [
       "1.0"
      ]
     },
     "execution_count": 26,
     "metadata": {},
     "output_type": "execute_result"
    }
   ],
   "source": [
    "mu, k = 0.05, 100\n",
    "poisson.cdf(k - loc, mu)"
   ]
  },
  {
   "cell_type": "markdown",
   "metadata": {},
   "source": [
    "## La distribution uniforme \n",
    "\n",
    "La distribution uniforme est une distribution de probabilité continue et concerne les événements qui sont également susceptibles de se produire. Lorsque vous travaillez sur des problèmes qui ont une distribution uniforme, veillez à noter si les données incluent ou excluent les points de terminaison."
   ]
  },
  {
   "cell_type": "code",
   "execution_count": 48,
   "metadata": {},
   "outputs": [],
   "source": [
    "# Importing scipy\n",
    "from scipy.stats import uniform"
   ]
  },
  {
   "cell_type": "code",
   "execution_count": 62,
   "metadata": {},
   "outputs": [
    {
     "data": {
      "text/plain": [
       "0.041666666666666664"
      ]
     },
     "execution_count": 62,
     "metadata": {},
     "output_type": "execute_result"
    }
   ],
   "source": [
    "x, scale, loc =9, 24, 0\n",
    "uniform.pdf(x, loc, scale)"
   ]
  },
  {
   "cell_type": "markdown",
   "metadata": {},
   "source": [
    "## La distribution exponentielle\n",
    "\n",
    "La distribution exponentielle concerne souvent le temps écoulé jusqu'à ce qu'un événement spécifique se produise. \n",
    "\n",
    "Par exemple, le temps (à partir de maintenant) jusqu'à ce qu'un tremblement de terre se produise a une distribution exponentielle. \n",
    "\n",
    "D'autres exemples incluent la durée, en minutes, des appels téléphoniques longue distance d'affaires et la durée, en mois, d'une batterie de voiture. \n",
    "\n",
    "Il peut également être montré que la valeur du changement que vous avez dans votre poche ou votre sac à main suit approximativement une distribution exponentielle. \n",
    "\n",
    "Les valeurs d'une variable aléatoire exponentielle se produisent de la manière suivante. Il y a moins de grandes valeurs et plus de petites valeurs.\n",
    "\n",
    "Par exemple, le montant d'argent que les clients dépensent en un voyage au supermarché suit une distribution exponentielle.\n",
    "\n",
    "Il y a plus de gens qui dépensent de petites sommes d'argent et moins de gens qui dépensent de grandes sommes d'argent. Les distributions exponentielles sont couramment utilisées dans les calculs de la fiabilité des produits ou de la durée de vie d'un produit."
   ]
  },
  {
   "cell_type": "code",
   "execution_count": 1,
   "metadata": {},
   "outputs": [],
   "source": [
    "# Importing scipy \n",
    "from scipy.stats import expon"
   ]
  },
  {
   "cell_type": "code",
   "execution_count": 2,
   "metadata": {},
   "outputs": [
    {
     "data": {
      "text/plain": [
       "3.720075976020836e-44"
      ]
     },
     "execution_count": 2,
     "metadata": {},
     "output_type": "execute_result"
    }
   ],
   "source": [
    "x, scale = 100, 200\n",
    "expon.pdf(x, loc=0, scale=1)# equivaut au paramètre lambda, tout comme en loi de Poisson"
   ]
  },
  {
   "cell_type": "markdown",
   "metadata": {},
   "source": [
    "## La limite centrale\n",
    "\n",
    "Si vous voulez comprendre la distribution du changement que les gens portent dans leurs poches, en utilisant le théorème de la limite centrale et en supposant que votre échantillon est suffisamment grand, vous constaterez que la distribution est normale et en forme de cloche.\n",
    "\n",
    "Il existe deux formes alternatives du théorème, et les deux alternatives consistent à tirer des échantillons finis de taille $n$ à partir d'une population avec une moyenne connue, $\\mu$, et un écart type connu, $\\sigma$.\n",
    "\n",
    "1. La première alternative dit que si nous collectons des échantillons de taille $n$ avec un «assez grand $n$», calculons la moyenne de chaque échantillon et créons un histogramme de ces moyennes, alors l'histogramme résultant aura tendance à avoir une forme de cloche normale approximative. \n",
    "\n",
    "2. La deuxième alternative dit que si nous collectons à nouveau des échantillons de taille $n$ qui sont \"assez grands\", calculons la somme de chaque échantillon et créons un histogramme, alors l'histogramme résultant aura à nouveau tendance à avoir une forme de cloche normale. \n",
    "\n",
    "3. L'échantillon, $n$, qui est en d’autres termes «suffisamment grand», dépend de la population d'origine à partir de laquelle les échantillons sont tirés (la taille de l'échantillon doit être d'au moins 30 ou les données doivent provenir d'une distribution normale.\n",
    "\n",
    "4. Si la population d'origine est loin d'être normale, il faudra alors davantage d'observations pour que les moyennes ou les sommes de l'échantillon soient normales. L'échantillonnage se fait avec remplacement."
   ]
  },
  {
   "cell_type": "code",
   "execution_count": 38,
   "metadata": {},
   "outputs": [],
   "source": [
    "import numpy as np\n",
    "import matplotlib.pyplot as plt"
   ]
  },
  {
   "cell_type": "markdown",
   "metadata": {},
   "source": [
    "Code issue de la page github de  [Rajesh Singh](https://rajeshrinet.github.io/blog/2014/central-limit-theorem/#Central-limit-theorem)."
   ]
  },
  {
   "cell_type": "code",
   "execution_count": 37,
   "metadata": {},
   "outputs": [
    {
     "data": {
      "image/png": "[encoded data removed]",
      "text/plain": [
       "<Figure size 1296x720 with 6 Axes>"
      ]
     },
     "metadata": {
      "needs_background": "light"
     },
     "output_type": "display_data"
    }
   ],
   "source": [
    "f = plt.figure(figsize=(18, 10))\n",
    " \n",
    "def plotHist(nr, N, n_, mean, var0, x0):\n",
    "    ''' plots the RVs'''\n",
    "    x = np.zeros((N))\n",
    "    sp = f.add_subplot(3, 2, n_ )\n",
    "    \n",
    "    for i in range(N):    \n",
    "        for j in range(nr):\n",
    "            x[i] += np.random.random() \n",
    "        x[i] *= 1/nr\n",
    "    plt.hist(x, 100, density=True, color='#348ABD', label=\" %d RVs\"%(nr));\n",
    "    plt.setp(sp.get_yticklabels(), visible=False)\n",
    "    \n",
    "    variance = var0/nr                     \n",
    "    fac = 1/np.sqrt(2*np.pi*variance)\n",
    "    dist = fac*np.exp(-(x0-mean)**2/(2*variance))\n",
    "    plt.plot(x0,dist,color='#A60628',linewidth=3,label='CLT',alpha=0.8)\n",
    "    plt.xlabel('r')\n",
    "    plt.xlim([0, 1])\n",
    "    leg = plt.legend(loc=\"upper left\")\n",
    "    leg.get_frame().set_alpha(0.1)\n",
    "N = 10000   # number of samples taken\n",
    "nr = ([1, 2, 4, 8, 16, 32])\n",
    "\n",
    "mean, var0 = 0.5, 1.0/12  # mean and variance of uniform distribution in range 0, 1\n",
    "x0 = np.linspace(0, 1, 128)\n",
    "\n",
    "for i in range(np.size(nr)):\n",
    "    plotHist(nr[i], N, i+1, mean, var0, x0)\n",
    "\n",
    "plt.suptitle(\"Addition of uniform random variables (RVs) converge to a Gaussian distribution (CLT)\",fontsize=20);"
   ]
  },
  {
   "cell_type": "markdown",
   "metadata": {},
   "source": [
    "## Le théorème central des limites pour les moyennes d'échantillonnage\n",
    "\n",
    "Supposons que X soit une variable aléatoire avec une distribution qui peut être connue ou inconnue (il peut s'agir de n'importe quelle distribution). En utilisant un indice qui correspond à la variable aléatoire, supposons: \n",
    "\n",
    "a. $\\mu_X =$ la moyenne de X \n",
    "\n",
    "b. $\\sigma_X =$ l'écart type de X\n",
    "\n",
    "Si vous tirez des échantillons aléatoires de taille, alors à mesure que $n$ augmente, la variable aléatoire $\\bar{X}$ qui consiste en des moyennes d'échantillon, tend à être normalement distribuée $\\bar{X}_{\\mapsto\\infty}\\approx N(\\mu_X,\\sigma_X)$\n",
    "\n",
    "Le théorème de limite central pour les moyennes d'échantillon indique que si vous continuez à dessiner des échantillons de plus en plus grands (comme lancer un, deux, cinq et enfin dix dés) et à calculer leurs moyennes, les moyennes d'échantillon forment leur propre distribution normale (la distribution d'échantillonnage).\n",
    "\n",
    "La distribution normale a la même moyenne que la distribution d'origine et une variance égale à la variance d'origine divisée par la taille de l'échantillon. L'écart type est la racine carrée de la variance, de sorte que l'écart type de la distribution d'échantillonnage est l'écart type de la distribution d'origine divisé par la racine carrée de $n$.\n",
    "\n",
    "La variable $n$ est le nombre de valeurs moyennées ensemble, et non le nombre de fois où l'expérience est effectuée. Pour le dire plus formellement, si vous tirez des échantillons aléatoires de taille acceptable, la distribution de la variable aléatoire $\\bar{X}$, qui consiste en des moyennes d'échantillon, est appelée distribution d'échantillonnage de la moyenne. \n",
    "\n",
    "La distribution d'échantillonnage de la moyenne se rapproche de la distribution normale lorsque $n$, la taille de l'échantillon, augmente. La variable aléatoire $\\bar{X}$ a un score $z$ différent de celui de la variable aléatoire $X$. La moyenne $\\bar{x}$ est la valeur de $\\bar{X}$ dans un échantillon. $z = \\frac{\\bar{x} − \\mu_x}{\\frac{\\sigma_x}{(\\sqrt[]{n})}}$ \n",
    "\n",
    "$\\mu_X$ est la moyenne de $X$ et de $\\bar{X}$. \n",
    "\n",
    "$\\sigma_{\\bar{x}} = \\frac{\\sigma_x}{\\sqrt[]{n}} = $ écart type de $\\bar{X}$ et est appelée l’erreur srandard de la moyenne.\n",
    "\n"
   ]
  },
  {
   "cell_type": "code",
   "execution_count": 44,
   "metadata": {},
   "outputs": [],
   "source": [
    "# Importing scipy\n",
    "import numpy as np\n",
    "from scipy.stats import sem # Standard error of the means"
   ]
  },
  {
   "cell_type": "code",
   "execution_count": 46,
   "metadata": {},
   "outputs": [
    {
     "data": {
      "text/plain": [
       "array([2.82842712, 2.82842712, 2.82842712, 2.82842712])"
      ]
     },
     "execution_count": 46,
     "metadata": {},
     "output_type": "execute_result"
    }
   ],
   "source": [
    "a = np.arange(20).reshape(5,4)\n",
    "sem(a)"
   ]
  },
  {
   "cell_type": "code",
   "execution_count": 47,
   "metadata": {},
   "outputs": [
    {
     "data": {
      "text/plain": [
       "1.2893796958227628"
      ]
     },
     "execution_count": 47,
     "metadata": {},
     "output_type": "execute_result"
    }
   ],
   "source": [
    "sem(a, axis=None, ddof=0)"
   ]
  },
  {
   "cell_type": "markdown",
   "metadata": {},
   "source": [
    "## Le théorème central de la limite des sommes \n",
    "\n",
    "Supposons que X est une variable aléatoire avec une distribution qui peut être connue ou inconnue (cela peut être n'importe quelle distribution) et supposons : \n",
    "\n",
    "a. $\\mu_X = $ la moyenne de $Χ$ \n",
    "\n",
    "b. $\\sigma_X = $ l'écart type de X \n",
    "\n",
    "Si vous tirez des échantillons aléatoires de taille acceptable, alors au fur et à mesure que vous l’augmenterez, la variable aléatoire $\\Sigma{X}$ constituée de sommes a tendance à être normalement distribuée et $\\Sigma{X} \\approx $$ N\\left( (n) (\\mu_Χ), (n) (\\sigma_Χ) \\right) $. \n",
    "\n",
    "Le théorème central limite des sommes dit que si vous continuez à prélever des échantillons de plus en plus grands et à prendre leurs sommes, les sommes forment leur propre distribution normale (la distribution d'échantillonnage), qui se rapproche d'une distribution normale à mesure que la taille de l'échantillon augmente. \n",
    "\n",
    "La distribution normale a une moyenne égale à la moyenne originale multipliée par la taille de l'échantillon et un écart type égal à l'écart type d'origine multiplié par la racine carrée de la taille de l'échantillon. \n",
    "\n",
    "La variable aléatoire $\\Sigma{X}$ a le score-$z$ suivant associé à :\n",
    "\n",
    "a. $\\Sigma{x}$ est une somme\n",
    "\n",
    "b. $z = \\frac{\\Sigma{X} - (n)(\\mu_X)}{(\\sqrt[]{n})(\\sigma_x)}$\n",
    "\n",
    "i.  $(n)(\\mu_X) = $ the mean of $\\Sigma{X}$\n",
    "\n",
    "ii. $(n)(\\sigma_X)= $ standard deviation of $\\Sigma{X}$\n"
   ]
  },
  {
   "cell_type": "code",
   "execution_count": null,
   "metadata": {},
   "outputs": [],
   "source": []
  },
  {
   "cell_type": "code",
   "execution_count": null,
   "metadata": {},
   "outputs": [],
   "source": []
  },
  {
   "cell_type": "markdown",
   "metadata": {},
   "source": [
    "## Hypothèses nulles et alternatives \n",
    "\n",
    "Le test proprement dit commence par considérer deux hypothèses. On les appelle l'hypothèse nulle et l'hypothèse alternative. \n",
    "\n",
    "Ces hypothèses contiennent des points de vue opposés. \n",
    "\n",
    "H0, L'hypothèse nulle : Il s'agit d'un énoncé de l'absence de différence entre les moyennes ou proportions de l'échantillon ou d'absence de différence entre la moyenne ou la proportion d'un échantillon et une moyenne ou une proportion de population. En d'autres termes, la différence est égale à 0. \n",
    "\n",
    "Ha, L'hypothèse alternative : C'est une affirmation sur la population qui est contradictoire avec H0 et ce que nous concluons lorsque nous rejetons H0. Puisque les hypothèses nulle et alternative sont contradictoires, vous devez examiner les preuves pour décider si vous avez suffisamment de preuves pour rejeter l'hypothèse nulle ou non. \n",
    "\n",
    "Les preuves se présentent sous la forme d'échantillons de données. Une fois que vous avez déterminé l'hypothèse prise en charge par l'échantillon, vous prenez une décision. \n",
    "\n",
    "Il existe deux options pour prendre une décision. Elles sont «rejeter H0» si les informations de l'échantillon favorisent l'hypothèse alternative ou «ne pas rejeter H0» ou «refuser de rejeter H0» si les informations de l'échantillon sont insuffisantes pour rejeter l'hypothèse nulle. Symboles mathématiques utilisés dans H0 et Ha : \n",
    "\n",
    "H0  | Ha | \n",
    "------ | ------|\n",
    "égal (=)    | différent de (≠) ou supérieur à (>) ou inférieur à (<)|\n",
    "supérieur ou égal à (≥)       | inférieur à (<)   |\n",
    "inférieur ou égal à (≤)      |   supérieur à (>)      | \n",
    "\n",
    "## Sortie et erreurs de type I et II\n",
    "\n",
    "\n",
    "Action | Ho est vraiment | Ho est vraiment|\n",
    "------ |-----------------|----------------|\n",
    "       |            Vrai |         Fausse |\n",
    "Ne pas rejeter Ho | Sortie Correcte | Erreur Type II $\\beta$|\n",
    "Rejeter Ho | Erreur Type I $\\alpha$ | Sortie Correcte\n",
    "\n",
    "$\\alpha = $ probabilité de Type I error = P(Type I error)= probabilité de rejeter l’hypothèse nulle quand elle est vrai.\n",
    "\n",
    "$\\beta = $ probabilité de Type II error =P(Type II error)= probabilité de ne pas rejeter l’hypothèse nulle quand elle est fausse.\n",
    "     "
   ]
  },
  {
   "cell_type": "code",
   "execution_count": null,
   "metadata": {},
   "outputs": [],
   "source": []
  },
  {
   "cell_type": "code",
   "execution_count": null,
   "metadata": {},
   "outputs": [],
   "source": []
  },
  {
   "cell_type": "markdown",
   "metadata": {},
   "source": [
    "## Deux moyennes de population avec des écarts types inconnus\n",
    "\n",
    "1. Les deux échantillons indépendants sont de simples échantillons aléatoires provenant de deux populations distinctes. \n",
    "\n",
    "2. Pour les deux populations distinctes : \n",
    "\n",
    "- si la taille des échantillons est petite, les distributions sont importantes (devraient être normales)\n",
    "- si la taille des échantillons est grande, les distributions ne sont pas importantes (il n'est pas nécessaire qu'elles soient normales) \n",
    "\n",
    "Le test comparant deux moyennes de population indépendantes avec des écarts-types de population inconnus et éventuellement inégaux s'appelle le test t d'Aspin-Welch. La formule des degrés de liberté a été développée par Aspin-Welch. \n",
    "\n",
    "La comparaison de deux moyennes de population est très courante. Une différence entre les deux échantillons dépend à la fois des moyennes et des écarts types. Des moyens très différents peuvent se produire par hasard s'il existe une grande variation entre les échantillons individuels. Afin de tenir compte de la variation, nous prenons la différence des moyennes de l'échantillon, $\\bar{X_1} – \\bar{X_2}$, et divisons par l'erreur standard afin de normaliser la différence.\n",
    "\n",
    "Le résultat est une statistique de test t-score. Comme nous ne connaissons pas les écarts-types de la population, nous les estimons en utilisant les deux écarts-types de l'échantillon de nos échantillons indépendants. Pour le test d'hypothèse, nous calculons l'écart type estimé, ou l'erreur standard, de la différence des moyennes d'échantillonnage, $\\bar{X_1} – \\bar{X_2}$.\n"
   ]
  },
  {
   "cell_type": "markdown",
   "metadata": {},
   "source": [
    "Pour des variables dépendantes :"
   ]
  },
  {
   "cell_type": "code",
   "execution_count": 67,
   "metadata": {},
   "outputs": [],
   "source": [
    "# Importing scipy\n",
    "from scipy.stats import norm\n",
    "from scipy.stats import ttest_rel"
   ]
  },
  {
   "cell_type": "code",
   "execution_count": 70,
   "metadata": {},
   "outputs": [
    {
     "data": {
      "text/plain": [
       "Ttest_relResult(statistic=0.24101764965300979, pvalue=0.8096404344581155)"
      ]
     },
     "execution_count": 70,
     "metadata": {},
     "output_type": "execute_result"
    }
   ],
   "source": [
    "np.random.seed(12345678) # fix random seed to get same numbers\n",
    "\n",
    "rvs1 = norm.rvs(loc=5,scale=10,size=500)\n",
    "rvs2 = (norm.rvs(loc=5,scale=10,size=500) +\n",
    "        norm.rvs(scale=0.2,size=500))\n",
    "ttest_rel(rvs1,rvs2)"
   ]
  },
  {
   "cell_type": "code",
   "execution_count": 71,
   "metadata": {},
   "outputs": [
    {
     "data": {
      "text/plain": [
       "Ttest_relResult(statistic=-3.9995108708727924, pvalue=7.308240219166128e-05)"
      ]
     },
     "execution_count": 71,
     "metadata": {},
     "output_type": "execute_result"
    }
   ],
   "source": [
    "rvs3 = (norm.rvs(loc=8,scale=10,size=500) +\n",
    "        norm.rvs(scale=0.2,size=500))\n",
    "ttest_rel(rvs1,rvs3)"
   ]
  },
  {
   "cell_type": "markdown",
   "metadata": {},
   "source": [
    "Pour des variables indépendantes :"
   ]
  },
  {
   "cell_type": "code",
   "execution_count": 72,
   "metadata": {},
   "outputs": [],
   "source": [
    "# Importing scipy\n",
    "from scipy.stats import norm\n",
    "from scipy.stats import ttest_ind"
   ]
  },
  {
   "cell_type": "code",
   "execution_count": 73,
   "metadata": {},
   "outputs": [
    {
     "data": {
      "text/plain": [
       "Ttest_indResult(statistic=1.0763821159276765, pvalue=0.282016525733433)"
      ]
     },
     "execution_count": 73,
     "metadata": {},
     "output_type": "execute_result"
    }
   ],
   "source": [
    "rvs1 = norm.rvs(loc=5,scale=10,size=500)\n",
    "rvs2 = norm.rvs(loc=5,scale=10,size=500)\n",
    "ttest_ind(rvs1,rvs2)"
   ]
  },
  {
   "cell_type": "code",
   "execution_count": 74,
   "metadata": {},
   "outputs": [
    {
     "data": {
      "text/plain": [
       "Ttest_indResult(statistic=1.0763821159276765, pvalue=0.2820166316269163)"
      ]
     },
     "execution_count": 74,
     "metadata": {},
     "output_type": "execute_result"
    }
   ],
   "source": [
    "ttest_ind(rvs1,rvs2, equal_var = False)"
   ]
  },
  {
   "cell_type": "markdown",
   "metadata": {},
   "source": [
    "ttest_ind underestimates p for unequal variances:"
   ]
  },
  {
   "cell_type": "code",
   "execution_count": 78,
   "metadata": {},
   "outputs": [
    {
     "data": {
      "text/plain": [
       "Ttest_indResult(statistic=0.8102978439129243, pvalue=0.41796218423074705)"
      ]
     },
     "execution_count": 78,
     "metadata": {},
     "output_type": "execute_result"
    }
   ],
   "source": [
    "rvs3 = norm.rvs(loc=5, scale=20, size=500)\n",
    "ttest_ind(rvs1, rvs3)"
   ]
  },
  {
   "cell_type": "code",
   "execution_count": 79,
   "metadata": {},
   "outputs": [
    {
     "data": {
      "text/plain": [
       "Ttest_indResult(statistic=0.8102978439129243, pvalue=0.4180327843951014)"
      ]
     },
     "execution_count": 79,
     "metadata": {},
     "output_type": "execute_result"
    }
   ],
   "source": [
    "ttest_ind(rvs1, rvs3, equal_var = False)"
   ]
  },
  {
   "cell_type": "markdown",
   "metadata": {},
   "source": [
    "When n1 != n2, the equal variance t-statistic is no longer equal to the unequal variance t-statistic:\n"
   ]
  },
  {
   "cell_type": "code",
   "execution_count": 82,
   "metadata": {},
   "outputs": [
    {
     "data": {
      "text/plain": [
       "Ttest_indResult(statistic=-0.19824285974122152, pvalue=0.8429224292670197)"
      ]
     },
     "execution_count": 82,
     "metadata": {},
     "output_type": "execute_result"
    }
   ],
   "source": [
    "rvs4 = norm.rvs(loc=5, scale=20, size=100)\n",
    "ttest_ind(rvs1, rvs4)"
   ]
  },
  {
   "cell_type": "code",
   "execution_count": 83,
   "metadata": {},
   "outputs": [
    {
     "data": {
      "text/plain": [
       "Ttest_indResult(statistic=-0.1321360117182417, pvalue=0.8951183654547593)"
      ]
     },
     "execution_count": 83,
     "metadata": {},
     "output_type": "execute_result"
    }
   ],
   "source": [
    "ttest_ind(rvs1, rvs4, equal_var = False)"
   ]
  },
  {
   "cell_type": "markdown",
   "metadata": {},
   "source": [
    "T-test with different means, variance, and n:"
   ]
  },
  {
   "cell_type": "code",
   "execution_count": 85,
   "metadata": {},
   "outputs": [
    {
     "data": {
      "text/plain": [
       "Ttest_indResult(statistic=-0.7536436880813698, pvalue=0.45135982629995197)"
      ]
     },
     "execution_count": 85,
     "metadata": {},
     "output_type": "execute_result"
    }
   ],
   "source": [
    "rvs5 = norm.rvs(loc=8, scale=20, size=100)\n",
    "ttest_ind(rvs1, rvs5)"
   ]
  },
  {
   "cell_type": "code",
   "execution_count": 91,
   "metadata": {},
   "outputs": [
    {
     "data": {
      "text/plain": [
       "Ttest_indResult(statistic=-0.49564652531472553, pvalue=0.6211387007521327)"
      ]
     },
     "execution_count": 91,
     "metadata": {},
     "output_type": "execute_result"
    }
   ],
   "source": [
    "ttest_ind(rvs1, rvs5, equal_var = False)"
   ]
  },
  {
   "cell_type": "markdown",
   "metadata": {},
   "source": [
    "## LA DISTRIBUTION CHI-SQUARE \n",
    "\n",
    "La distribution du chi carré peut être utilisée pour trouver des relations entre deux choses, comme les prix d'épicerie dans différents magasins. \n",
    "\n",
    "Dans ce type de test d'hypothèse, vous déterminez si les données «correspondent» ou non à une distribution particulière. Par exemple, vous pouvez soupçonner que vos données inconnues correspondent à une distribution binomiale. Vous utilisez un test du chi carré (ce qui signifie que la distribution de l'hypothèse est le chi carré) pour déterminer s'il existe un ajustement ou non. \n",
    "\n",
    "L'hypothèse nulle et les hypothèses alternatives pour ce test peuvent être écrites dans des phrases ou peuvent être énoncées sous forme d'équations ou d'inégalités. La statistique de test pour un test de qualité d'ajustement est :\n",
    "$\\Sigma_{k}\\frac{(O − E)^2}{E}$ \n",
    "\n",
    "où: \n",
    "\n",
    "* O = valeurs observées (données) \n",
    "* E = valeurs attendues (de la théorie) \n",
    "* k = le nombre de cellules de données différentes ou catégories\n",
    "\n",
    "La probabilité de masse est : $f(x, k) = \\frac{1}{2^{\\frac{k}{2}}\\Gamma(\\frac{k}{2})}x^{\\frac{k}{2-1}}exp(\\frac{-x}{2})$\n",
    "\n",
    "pour $x\\gt{0}$ et $k\\gt{0}$ (degrés de liberté, noté `df` dans l’implémentation"
   ]
  },
  {
   "cell_type": "code",
   "execution_count": 103,
   "metadata": {},
   "outputs": [],
   "source": [
    "from scipy.stats import chi2"
   ]
  },
  {
   "cell_type": "code",
   "execution_count": 111,
   "metadata": {},
   "outputs": [
    {
     "data": {
      "text/plain": [
       "7.96460240704433e-82"
      ]
     },
     "execution_count": 111,
     "metadata": {},
     "output_type": "execute_result"
    }
   ],
   "source": [
    "x, df, var, scale = 1, 55, 0, 40\n",
    "chi2.cdf(x, df, loc, scale)"
   ]
  },
  {
   "cell_type": "markdown",
   "metadata": {},
   "source": [
    "### Effectuer et interpréter le test du chi carré des tests d'hypothèse d'indépendance. \n",
    "\n",
    "Les tests d'indépendance impliquent l'utilisation d'une table de contingence des valeurs (données) observées. La statistique de test pour un test d'indépendance est similaire à celle d'un test de qualité d'ajustement : \n",
    "$\\Sigma_{(i\\cdot j)}\\frac{(O – E)^2}{E}$\n",
    "\n",
    "où:\n",
    "\n",
    "* O = valeurs observées\n",
    "* E = valeurs attendues\n",
    "* i = le nombre de lignes dans le tableau\n",
    "* j = le nombre de colonnes du tableau \n",
    "\n",
    "Il existe $i\\cdot j$ termes de la forme $\\frac{(O – E)^2}{E}$. \n",
    "\n",
    "Un test d'indépendance détermine si deux facteurs sont indépendants ou non.\n",
    "\n",
    "### Statistique de test : Utiliser une statistique de test $\\chi^2$. \n",
    "\n",
    "Il est calculé de la même manière que le test d'indépendance. Degrés de liberté (df) $df = $ nombre de colonnes $- 1$ \n",
    "\n",
    "Conditions requises : Toutes les valeurs du tableau doivent être supérieures ou égales à cinq. \n",
    "\n",
    "Utilisations courantes : Comparaison de deux populations. \n",
    "\n",
    "Par exemple: hommes vs femmes, avant vs après, est vs ouest. La variable est catégorique avec plus de deux valeurs de réponse possibles.\n",
    "\n",
    "\n",
    "### Effectuer et interpréter des tests d'hypothèse d'homogénéité du chi carré. \n",
    "\n",
    "Le test de qualité d'ajustement peut être utilisé pour décider si une population correspond à une distribution donnée, mais il ne suffira pas de décider si deux populations suivent la même distribution inconnue. Un test différent, appelé test d'homogénéité, peut être utilisé pour tirer une conclusion quant à savoir si deux populations ont la même distribution. Pour calculer la statistique de test pour un test d'homogénéité, suivez la même procédure que pour le test d'indépendance. La valeur attendue de chaque cellule doit être d'au moins cinq pour que vous puissiez utiliser ce test. \n",
    "\n",
    "Hypothèses H0: Les distributions des deux populations sont les mêmes. \n",
    "\n",
    "Ha: Les distributions des deux populations ne sont pas les mêmes. "
   ]
  },
  {
   "cell_type": "code",
   "execution_count": 94,
   "metadata": {},
   "outputs": [],
   "source": [
    "# Importing scipy\n",
    "from scipy.stats import chi2_contingency"
   ]
  },
  {
   "cell_type": "code",
   "execution_count": 95,
   "metadata": {},
   "outputs": [
    {
     "data": {
      "text/plain": [
       "(2.7777777777777777,\n",
       " 0.24935220877729622,\n",
       " 2,\n",
       " array([[12., 12., 16.],\n",
       "        [18., 18., 24.]]))"
      ]
     },
     "execution_count": 95,
     "metadata": {},
     "output_type": "execute_result"
    }
   ],
   "source": [
    "obs = np.array([[10, 10, 20], [20, 20, 20]])\n",
    "chi2_contingency(obs) # return [chi, pvalue, df, ndarray]"
   ]
  },
  {
   "cell_type": "markdown",
   "metadata": {},
   "source": [
    "### Réaliser et interpréter des tests d’hypothèse de variance unique du chi carré \n",
    "\n",
    "Au plus d'une seule variance suppose que la distribution sous-jacente est normale. Les hypothèses nulles et alternatives sont énoncées en termes de variance de la population (ou écart type de la population). La statistique du test est: \n",
    "\n",
    " $\\frac{(n- 1)s^2}{σ^2}$ \n",
    " \n",
    "où : \n",
    "* $n = $ le nombre total de données \n",
    "* $s^2 = $ variance de l'échantillon \n",
    "* $\\sigma^2 = $ variance de la population Vous pouvez penser à la variable aléatoire dans ce test. Le nombre de degrés de liberté est df = n- 1. Un test d'une seule variance peut être à droite, à gauche ou bilatéral. L'exemple 11.10 vous montrera comment configurer les hypothèses nulles et alternatives. Les hypothèses nulle et alternative contiennent des déclarations sur la variance de la population.\n"
   ]
  },
  {
   "cell_type": "code",
   "execution_count": 112,
   "metadata": {},
   "outputs": [],
   "source": [
    "# Importing scipy\n",
    "from scipy.stats import fligner"
   ]
  },
  {
   "cell_type": "code",
   "execution_count": 113,
   "metadata": {},
   "outputs": [
    {
     "data": {
      "text/plain": [
       "0.00450826080004775"
      ]
     },
     "execution_count": 113,
     "metadata": {},
     "output_type": "execute_result"
    }
   ],
   "source": [
    "a = [8.88, 9.12, 9.04, 8.98, 9.00, 9.08, 9.01, 8.85, 9.06, 8.99]\n",
    "b = [8.88, 8.95, 9.29, 9.44, 9.15, 9.58, 8.36, 9.18, 8.67, 9.05]\n",
    "c = [8.95, 9.12, 8.95, 8.85, 9.03, 8.84, 9.07, 8.98, 8.86, 8.98]\n",
    "stat, p = fligner(a, b, c)\n",
    "p"
   ]
  }
 ],
 "metadata": {
  "kernelspec": {
   "display_name": "Python 3",
   "language": "python",
   "name": "python3"
  },
  "language_info": {
   "codemirror_mode": {
    "name": "ipython",
    "version": 3
   },
   "file_extension": ".py",
   "mimetype": "text/x-python",
   "name": "python",
   "nbconvert_exporter": "python",
   "pygments_lexer": "ipython3",
   "version": "3.8.3"
  }
 },
 "nbformat": 4,
 "nbformat_minor": 4
}
