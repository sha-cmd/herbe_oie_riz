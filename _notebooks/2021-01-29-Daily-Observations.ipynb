{
 "cells": [
  {
   "cell_type": "markdown",
   "metadata": {},
   "source": [
    "# \"Quelques Observations Quotidiennes\"\n",
    "> Vous n’avez probablement rien à faire ici, ce serait une erreur pour vous de rester, merci de ne pas diffuser par des liens ou autres moyens de diffusion le contenu de cette page.\n",
    "\n",
    "- categories: [vie privée]\n",
    "- image: images/daily_observations/header_observations.jpg\n",
    "- comments : false"
   ]
  },
  {
   "cell_type": "markdown",
   "metadata": {},
   "source": [
    "## 2021-02-22\n",
    "\n",
    "La vision de Copenhague, qui situe le monde quantique dans un autre monde que le monde classique, serait parfait si nous ne voulions pas voir du monde quantique autre chose qu’une vision théorique et mathématique. C’est un monde où les particules se comportent en théorie comme une onde, car rien n’interfère avec leur état. Elles peuvent ainsi être en état de superposition mais sans que nous puissions procéder à une mesure d’une interférence.\n",
    "\n",
    "Toutefois si nous considérons que la particule est en même temps de nature ondulatoire et corpusculaire, nous obtenons dans ce cas, une vision du monde quantique telle que la décrivent Louis de Broglie et David Bohm et qui s’oppose à la vision de Copenhague. Pour faire simple, l’onde est perçue comme une trame sur laquelle se déplace le corps, un peu comme un surfeur. Mais pour que l’onde agisse sur la particule en permanence et de manière instantanée, quelque-soit la distance entre elles, la transmission devrait se produire à une vitesse supérieure à celle de la lumière, ce qui n’est pas concevable depuis la théorie de la relativité d’Einstein.\n",
    "\n",
    "Enfin, il peut-être plus intéressant encore de diviser l’univers étudié en autant d’états possibles que peuvent prendre ses particules. En dépliant cette arborescence, nous nous rendons compte qu’il s’agit de duplication de l’univers, un pour chaque état des particules. Le nombre de branches pourra donner le vertige quand les états des particules ne seront pas simplement binaires."
   ]
  },
  {
   "cell_type": "markdown",
   "metadata": {},
   "source": [
    "## 2021-02-06\n",
    "\n",
    "Le grand dilemme de cet avenir vers 2030, de ce futur que nous imaginons infructueux quand nous sommes pessimistes, est dans ce qui représente la prochaine révolution, la physique quantique. Imaginons un seul instant que l’ensemble des positions des électrons dans notre tête soient mesurées par une puce dans notre cerveau relié à un ordinateur quantique par le réseau des réseaux, sans doute dès lors, sera-t-il possible, pour un programme quantique, de deviner nos pensées des minutes qui suivent la mesure. La notion de libre arbitre risque de devenir flou.\n",
    "La fonction d’onde de Schrödinger montre déjà comment se comporte un électron dans son nuage électronique :\n",
    "\n",
    " $ih\\frac{\\delta\\psi}{\\delta t} = -\\frac{h^2}{2m}\\nabla^2\\psi+V\\psi$\n",
    " \n",
    "h est une constante, $\\psi$ est la fonction d’onde (probabilité de trouvé un électron dans un nuage), V est la description des forces que subit l’électron, et le reste (i, $\\frac{\\delta}{\\delta t}$, $\\nabla$ dit nabla) sont des outils mathématiques.\n",
    "Les prédictions seront sans doute plus facile grâce aux ordinateurs quantiques, mais à quel prix pour la liberté de penser ? Les gens seront-ils rangés par paquets bien homogènes ?"
   ]
  },
  {
   "cell_type": "markdown",
   "metadata": {},
   "source": [
    "## 2021-02-02\n",
    "\n",
    "Hier je vous parlais d’une idée qui m’avait semblé intéressante, pourquoi, parce que c’est dans l’air du temps et dans mon tempérement également. Mais je sens que je ne suis pas allé assez loin pour atteindre le but que je m’étais fixé qui était celui de dégager mes impressions sur le sujet, donc j’ai trouvé heureusement, ce matin sagement, une énième barrière technologique. Bien que cela bride un peu l’imaginaire, je vais quand même l’évoquer en entrant immédiatement dans le vif du sujet. \n",
    "\n",
    "C’est tout simplement la perte d’information entre les signaux digitaux et analogiques. La clé de ce sujet est la compression de l’information contenue dans le signal. Il aurait pu sembler regrettable pour un certain ingénieur du son de ma connaissance d’écouter une musique sur un mp3, et pour lui, de plus, il aurait toujours mieux valu un format moins compressé tel que le flac (bien que d’autres formats existent). Mais la vérité c’est que le format mp3 satisfait la majeur parti du public.\n",
    "\n",
    "Sans doute parce que l’appréciation de la musique ainsi que son interprétation et son réglage n’ont pas la même valeur selon qu’une personne écoute la musique par le ventre ou bien comme une collection de paramètres. L’enjeu de la qualité et de la quantité peut faire débat longtemps, je crois, malheureusement. Qu’en est-il des compositeurs qui entendent les instruments dans leur tête ? Une puce pourrait-elle remplacer cette fonction judicieusement dans leur cerveau ?\n"
   ]
  },
  {
   "cell_type": "markdown",
   "metadata": {},
   "source": [
    "## 2021-02-01\n",
    "\n",
    "La journée commence toujours à la fin lorsque je dois reprendre mes notes pour vous écrire un compte-rendu. Cette fois, j’ai pensé aux puces intégrées dans le cerveau, celles-là mêmes qui pourraient transformer tout novice de la finance en Warren Buffet par une seule opération, certe un peu invasive, mais vous n’aurez rien sans rien. \n",
    "\n",
    "À quoi bon rêver de ces puces, et surtout, pourrons-nous réellement penser de la même manière une fois qu’elles nous seront implantées ? Une puce ayanc une certaine fréquence d’horloge, alors que le flux de la pensée est irrégulier. Devrons-nous par conséquent apprendre à penser en écoutant un métronome, sans que ça soit un danger majeur pour notre comportement humain. \n",
    "\n",
    "Les risques seront-ils minimes ou élevés, et pourrons-nous continuer toutes nos activités habituelles ? Tandis que les puces pourraient permettre aux anciens de devenir aussi malin que les petits nouveaux ou en sens contraire, en tout cas, la rotation de la Terre ne s’arrêtera pas de tourner pour si peu…"
   ]
  },
  {
   "cell_type": "markdown",
   "metadata": {},
   "source": [
    "## 2021-01-31\n",
    "\n",
    "Encore un autre jour de la période Covid-19 passée dans mon château-fort. En ayant passé des heures à chercher la cause de mon problème pour trouver le remède qui n’était rien de plus que de faire sans faire. Aimer l’eau, l’air, haïr la haine, voilà un résumé de ce petit manuel du terrien."
   ]
  },
  {
   "cell_type": "markdown",
   "metadata": {},
   "source": [
    "## 2021-01-30\n",
    "\n",
    "Les aiguilles ont fait un tour de cadran et je goutte une nouvelle liberté d’action pour organiser un nouveau projet professionnel, après la restructuration de mon service pro, j’entre dans une période de recherche d’une nouvelle entreprise pour un poste à l’identique. Je suis confiant car je ne suis pas le seul à dire que la Data Science et l’IA sont des domaines qui ont un avenir, mais, je l’espère pour moi, aussi en France ! Car malgré les autres grandes puissances et la diversification du hardware qui ira en augmentant (tel que nous pouvons l’imaginer), nous avons des Grands Groupes, et une French Tech avec ses startups ou même ses licornes."
   ]
  },
  {
   "cell_type": "markdown",
   "metadata": {},
   "source": [
    "## 2021-01-29\n",
    "Demain j’aurai sans doute terminé mon travail sur les outils statistiques que je m’étais fixé le mois dernier. Connaître bientôt la satisfaction du travail accompli me permet de garder espoir dans le futur tout en pensant à autre chose qu’au stress hydrique que connaissent déjà plusieurs villes sur Terre."
   ]
  },
  {
   "cell_type": "code",
   "execution_count": null,
   "metadata": {},
   "outputs": [],
   "source": []
  }
 ],
 "metadata": {
  "kernelspec": {
   "display_name": "Python 3",
   "language": "python",
   "name": "python3"
  },
  "language_info": {
   "codemirror_mode": {
    "name": "ipython",
    "version": 3
   },
   "file_extension": ".py",
   "mimetype": "text/x-python",
   "name": "python",
   "nbconvert_exporter": "python",
   "pygments_lexer": "ipython3",
   "version": "3.8.3"
  }
 },
 "nbformat": 4,
 "nbformat_minor": 4
}
