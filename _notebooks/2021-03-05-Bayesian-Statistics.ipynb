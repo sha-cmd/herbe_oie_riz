{
 "cells": [
  {
   "cell_type": "markdown",
   "metadata": {},
   "source": [
    "# \"Statistiques Bayesiennes\"\n",
    "> Quelques rappel sur les outils statistiques basés sur la théorie de Bayes.\n",
    "\n",
    "- categories: [statistiques]\n",
    "- image: images/bayes/bayes.png\n",
    "- comments: true\n",
    "- hide: true"
   ]
  },
  {
   "cell_type": "markdown",
   "metadata": {},
   "source": [
    "## Théorème de Bayes :\n",
    "\n",
    "Voici tout se dont vous devez savoir à propos des statistiques (R. Feynman) :\n",
    "\n",
    "$P(\\theta|y) = \\frac{P(y|\\theta)\\cdot P(\\theta)}{P(y)}$\n",
    "\n",
    "D’après la règle des produits :\n",
    "\n",
    "$P(\\theta,y) = P(\\theta|y)P(y)$\n",
    "\n",
    "ou\n",
    "    \n",
    "$P(\\theta,y) = P(y|\\theta)P(\\theta)$\n",
    "\n",
    "Ce qui équivaut en les combinant à :\n",
    "\n",
    "$P(\\theta|y)P(y) = P(y|\\theta)P(\\theta)$\n",
    "\n",
    "Si nous remplaçons $\\theta$ par l’hypothèse et y par les data, le théorème de Bayes nous dit comment calculer la probabilité de notre hypothèse sachant nos données. L’hypothèse est transformé en probabilité en utilisant des distributions de probabilités. \n",
    "\n",
    "$P(\\theta)$ : Primauté, les statisticiens la qualifie de subjective.\n",
    "\n",
    "$P(y|\\theta)$ : La certitude, le modèle de l’échantillon, le modèle statisque ou le modèle.\n",
    "\n",
    "$P(\\theta|y)$ : Le posterieur de la distribution, c’est une distribution de probabilité pour notre paramètre $\\theta$ et non une simple valeur.\n",
    "\n",
    "$P(y)$ : Probabilité marginale, ou évidence. Peut-être ignoré par les débutants, en ne la considérant que comme une valeur relative et non pas comme une valeur absolue.\n",
    "\n",
    "### À quoi sert-il\n",
    "\n",
    "Les probabilités sont des outils pour mesurer l’incertitude à propos de paramètres, et le théorème de Bayes est le méchanisme pour mettre à jour correctement ces probabilités à la lumière de nouvelles données, avec l’espoir de pouvoir réduire l’incertitude.\n"
   ]
  },
  {
   "cell_type": "code",
   "execution_count": null,
   "metadata": {},
   "outputs": [],
   "source": []
  },
  {
   "cell_type": "code",
   "execution_count": null,
   "metadata": {},
   "outputs": [],
   "source": []
  }
 ],
 "metadata": {
  "kernelspec": {
   "display_name": "Python 3",
   "language": "python",
   "name": "python3"
  },
  "language_info": {
   "codemirror_mode": {
    "name": "ipython",
    "version": 3
   },
   "file_extension": ".py",
   "mimetype": "text/x-python",
   "name": "python",
   "nbconvert_exporter": "python",
   "pygments_lexer": "ipython3",
   "version": "3.8.3"
  }
 },
 "nbformat": 4,
 "nbformat_minor": 4
}
