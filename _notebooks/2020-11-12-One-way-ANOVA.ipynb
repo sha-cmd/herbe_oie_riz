{
 "cells": [
  {
   "cell_type": "markdown",
   "metadata": {},
   "source": [
    "# \"One-way ANOVA\"\n",
    "> Comparaison d’une variable indépendante dans plusieurs groupe par l’analyse de leur variance.\n",
    "\n",
    "- hide: true\n",
    "- categories: [statistiques, ANOVA]\n",
    "- image: images/one-way_ANOVA/boxplot.png\n",
    "- comments : true"
   ]
  },
  {
   "cell_type": "markdown",
   "metadata": {},
   "source": [
    "### Où s’utilise cette méthode\n",
    "Nous trouvons cette méthode d’analyse de la variance dans les sciences comme la psychologie, les sciences sociales,  les sciences naturelles. Elle permet l’analyse d’une variable indépendante dans plusieurs groupes : un sociologue pourra mesurer le niveau de salaire d’une personne en fonction de son niveau d’étude, un consommateur pourra comparer la consommation moyenne de véhicules suivant le modèle…\n",
    "Pour mesurer plusieurs groupes, les statisticiens ont développé la méthode d’analyse de la variance ou ANOVA. \n",
    "La plus simple, qui analyse une seule variable indépendante est la one-way ANOVA.\n",
    "\n",
    "### Principe\n",
    "Le but de la méthode one-way ANOVA est de trouver s’il existe une différence statistiquement significative dans les moyennes de plusieurs groupes. La méthode utilise la variance pour vérifier que les moyennes sont semblables.\n",
    "\n",
    "### Hypothèses de travail\n",
    "\n",
    "1. Chaque échantillon est pris d’une population dont la distribution est considérée comme suivant une loi Normale.\n",
    "2. L’échantillonnage est aléatoire, et le tirage de chaque groupe est indépendent.\n",
    "3. Les populations des groupes ont un écart type équivalent ou égal.\n",
    "4. Le facteur est une variable de catégorie\n",
    "5. La réponse est une variable numérique\n",
    "\n",
    "### Test d’hypothèse\n",
    "\n",
    "L’hypothèse nulle est le cas dans lequel toutes les moyennes sont égales. L’hypothèse alternative est qu’au moins un couple de moyennes n’est pas équivalent. \n",
    "\n",
    "### Calcul du test d’hypothèse\n",
    "\n",
    "Pour réaliser le calcul, nous utilisons la *distribution F*. Cette statistique est un ratio (un rapport, une fraction) comprenant deux degrés de liberté, un pour le numérateur, l’autre pour le dénominateur.\n",
    "\n",
    "> Note : La distribution F dérive du t-test et de la distribution Student, qui est simplement l’élévation au carré de celle-là. Il est préférable d’utiliser la méthode one-way ANOVA quand on veut étudier plusieurs groupes au-lieu que de réaliser de multiple t-test à cause du risque $\\alpha$ qui est le rejet de l’hypothèse nulle alors qu’elle est vraie.\n",
    "\n",
    "\n",
    "### Le calcul de Ratio-F\n",
    "\n",
    "$F = \\frac{MS_{between}}{MS_{within}}$\n",
    "La valeur de F est le rapport entre la moyenne de la variance au carré entre les groupes, et la moyenne de la variance au carré dans les groupes (dû à l’échantillonage).\n",
    "\n",
    "$MS_{between} = \\frac{SS_{between}}{df_{between}} = \\frac{SS_{between}}{k - 1}$ avec $k$ comme nombre de groupe\n",
    "\n",
    "$MS_{within} = \\frac{SS_{within}}{df_{within}} = \\frac{SS_{within}}{n-k}$ avec $n$ comme somme de la quantité d’observations pour tous les groupes.\n",
    "\n",
    "Quand les groupes ont la même taille, la valeur de F revient à :\n",
    "\n",
    "$F=\\frac{n \\cdot {s_{\\bar{x}}}^{2}}{s^{2}}$\n",
    "\n",
    "Nous détaillerons plus le calcul dans l’exemple suivant."
   ]
  },
  {
   "cell_type": "markdown",
   "metadata": {},
   "source": [
    "## Importation des modules scientifiques\n",
    "Pour réaliser nos calculs nous aurons besoin de la bibliothèque scientifique de python [scipy](https://docs.scipy.org/doc/) et également de numpy pour construire nos tableaux de valeurs. Pour l’installation dans Jupyter-notebook, nous pouvons utiliser la commande suivante :"
   ]
  },
  {
   "cell_type": "code",
   "execution_count": 1,
   "metadata": {},
   "outputs": [
    {
     "name": "stdout",
     "output_type": "stream",
     "text": [
      "Requirement already satisfied: scipy in c:\\programdata\\anaconda3\\lib\\site-packages (1.5.0)\n",
      "Requirement already satisfied: numpy in c:\\programdata\\anaconda3\\lib\\site-packages (1.18.5)\n"
     ]
    }
   ],
   "source": [
    "!pip install scipy numpy"
   ]
  },
  {
   "cell_type": "markdown",
   "metadata": {},
   "source": [
    "Nous importons la méthode pour la méthode one-way ANOVA, la fonction de densité de F et le module numpy"
   ]
  },
  {
   "cell_type": "code",
   "execution_count": 2,
   "metadata": {},
   "outputs": [],
   "source": [
    "from scipy.stats import f_oneway\n",
    "from scipy.special import fdtrc\n",
    "import numpy as np"
   ]
  },
  {
   "cell_type": "markdown",
   "metadata": {},
   "source": [
    "## Exemple\n",
    "Nous collectons des données du supermarché du coin afin de réaliser une analyse de la variance sur trois produits : des fruits, des légumes et des pains.\n",
    "Nous collectons nos données de manière aléatoire à partir des rayons de notre supermarché en prenant le prix au kilos de huit produits non contigus dans chacun des rayons. Nous retrouvons nos 3 catégories et les valeurs numériques (prix par kilogramme) comme suivant :"
   ]
  },
  {
   "cell_type": "code",
   "execution_count": 3,
   "metadata": {},
   "outputs": [],
   "source": [
    "fruits  = np.array([1.99, 3.05, 2.60, 1.45, 2.99, 2.91, 2.72, 3.15])\n",
    "legumes = np.array([1.25, 1.75, 1.40, 1.66, 2.20, 2.70, 3.00, 1.99])\n",
    "pains   = np.array([0.90, 1.25, 1.10, 1.55, 2.20, 3.00, 3.05, 1.05])"
   ]
  },
  {
   "cell_type": "markdown",
   "metadata": {},
   "source": [
    "L’hypothèse nulle $H_{0}$ est que les moyennes des prix de ces trois catégories de produit ne sont pas statistiquement différentes de manière significative au vue de notre jeu de données. Nous pourrons prendre une pvalue de 5%, ce qui représente une certitude de 95% quant à notre résultat, en statistique."
   ]
  },
  {
   "cell_type": "markdown",
   "metadata": {},
   "source": [
    "Pour les fruits, les légumes, et les pains, nous avons les valeurs statistiques suivantes :"
   ]
  },
  {
   "cell_type": "code",
   "execution_count": 4,
   "metadata": {},
   "outputs": [
    {
     "data": {
      "text/plain": [
       "'La moyenne des fruits est 2.61, La variance est 0.31, Le nombre d’observations est 8'"
      ]
     },
     "execution_count": 4,
     "metadata": {},
     "output_type": "execute_result"
    }
   ],
   "source": [
    "fruits_mean = fruits.mean()\n",
    "fruits_var = fruits.var()\n",
    "fruits_cnt = len(fruits)\n",
    "fruits_stat = 'La moyenne des fruits est ' + f'{fruits_mean:0.3}' + ', La variance est ' \\\n",
    "                + f'{fruits_var:0.2}' + ', Le nombre d’observations est ' + f'{fruits_cnt}'\n",
    "fruits_stat"
   ]
  },
  {
   "cell_type": "code",
   "execution_count": 5,
   "metadata": {},
   "outputs": [
    {
     "data": {
      "text/plain": [
       "'La moyenne des légumes est 1.99, La variance est 0.33, Le nombre d’observations est 8'"
      ]
     },
     "execution_count": 5,
     "metadata": {},
     "output_type": "execute_result"
    }
   ],
   "source": [
    "legumes_mean = legumes.mean()\n",
    "legumes_var = legumes.var()\n",
    "legumes_cnt = len(legumes)\n",
    "legumes_stat = 'La moyenne des légumes est ' + f'{legumes_mean:0.3}' + ', La variance est ' \\\n",
    "                + f'{legumes_var:0.2}' + ', Le nombre d’observations est ' + str(legumes_cnt)\n",
    "legumes_stat"
   ]
  },
  {
   "cell_type": "code",
   "execution_count": 6,
   "metadata": {},
   "outputs": [
    {
     "data": {
      "text/plain": [
       "'La moyenne des pains est 1.76, La variance est 0.67, Le nombre d’observations est 8'"
      ]
     },
     "execution_count": 6,
     "metadata": {},
     "output_type": "execute_result"
    }
   ],
   "source": [
    "pains_mean = pains.mean()\n",
    "pains_var = pains.var()\n",
    "pains_cnt = len(pains)\n",
    "pains_stat = 'La moyenne des pains est ' + f'{pains_mean:0.3}' + ', La variance est ' \\\n",
    "                + f'{pains_var:0.2}' + ', Le nombre d’observations est ' + str(pains_cnt)\n",
    "pains_stat"
   ]
  },
  {
   "cell_type": "markdown",
   "metadata": {},
   "source": [
    "### Estimation du ratio-F, par la distribution Fischer\n",
    "Pour parvenir à notre résultat, nous ferons plusieurs calculs.\n",
    "\n",
    "Les degrés de libertés sont (pour n = 24 , k = 3) :\n",
    "\n",
    "$df_{num} = 3 - 1$ soit 2\n",
    "\n",
    "et \n",
    "\n",
    "$df_{denom} = 24 - 3$ soit 21\n",
    "\n",
    "La valeur de F que nous cherchons est $F_{2,21}$ soit dans la table des valeurs de la distribution F : 3.46"
   ]
  },
  {
   "cell_type": "code",
   "execution_count": 7,
   "metadata": {},
   "outputs": [],
   "source": [
    "alldata = np.concatenate([[fruits,legumes,pains]])\n",
    "k = len(alldata) # Nombre de catégories ...2\n",
    "N = alldata.shape[0] * alldata.shape[1] # Nombre d’observations ...24\n",
    "n = alldata.shape[1] # Nombre d’observations dans chaque catégorie ...8"
   ]
  },
  {
   "cell_type": "code",
   "execution_count": 8,
   "metadata": {},
   "outputs": [],
   "source": [
    "df_num = k - 1\n",
    "df_denom = N - k"
   ]
  },
  {
   "cell_type": "markdown",
   "metadata": {},
   "source": [
    "$SS_{between} = \\frac{\\sum{x^2}}{n} - \\frac{(\\sum{x})^2}{N}$"
   ]
  },
  {
   "cell_type": "code",
   "execution_count": 9,
   "metadata": {},
   "outputs": [],
   "source": [
    "SS_between = (np.array([fruits.sum()**2, legumes.sum()**2, pains.sum()**2]).sum()/n ) \\\n",
    "               - (np.array([fruits.sum(), legumes.sum(), pains.sum()]).sum()**2 /N)"
   ]
  },
  {
   "cell_type": "markdown",
   "metadata": {},
   "source": [
    "$SS_{tot} = \\sum{x^2} - \\frac{(\\sum{x})^2}{N}$"
   ]
  },
  {
   "cell_type": "code",
   "execution_count": 10,
   "metadata": {},
   "outputs": [],
   "source": [
    "SS_tot = (np.array([fruits**2, legumes**2, pains**2]).sum())- \\\n",
    "(np.array([fruits, legumes, pains]).sum()**2 /24)"
   ]
  },
  {
   "cell_type": "markdown",
   "metadata": {},
   "source": [
    "$SS_{within} = SS_{tot}- SS_{between}$"
   ]
  },
  {
   "cell_type": "code",
   "execution_count": 11,
   "metadata": {},
   "outputs": [],
   "source": [
    "SS_within = SS_tot - SS_between"
   ]
  },
  {
   "cell_type": "code",
   "execution_count": 12,
   "metadata": {},
   "outputs": [],
   "source": [
    "MS_between = SS_between / df_num"
   ]
  },
  {
   "cell_type": "code",
   "execution_count": 13,
   "metadata": {},
   "outputs": [],
   "source": [
    "MS_within = (SS_within) / df_denom"
   ]
  },
  {
   "cell_type": "code",
   "execution_count": 14,
   "metadata": {},
   "outputs": [
    {
     "data": {
      "text/plain": [
       "3.0596582667896874"
      ]
     },
     "execution_count": 14,
     "metadata": {},
     "output_type": "execute_result"
    }
   ],
   "source": [
    "F = MS_between / MS_within\n",
    "F"
   ]
  },
  {
   "cell_type": "markdown",
   "metadata": {},
   "source": [
    "$pvalue = P(F> 3.46) = 0.0682$"
   ]
  },
  {
   "cell_type": "code",
   "execution_count": 15,
   "metadata": {},
   "outputs": [
    {
     "data": {
      "text/plain": [
       "0.06821436223117332"
      ]
     },
     "execution_count": 15,
     "metadata": {},
     "output_type": "execute_result"
    }
   ],
   "source": [
    "pvalue = fdtrc(df_num, df_denom, F)\n",
    "pvalue"
   ]
  },
  {
   "cell_type": "markdown",
   "metadata": {},
   "source": [
    "En conclusion, d’après nos données, nous sommes sûr à 95% que l’hypothèse nulle $H_{0}$ doit-être rejetée."
   ]
  },
  {
   "cell_type": "markdown",
   "metadata": {},
   "source": [
    "La même conclusion peut être calculée, plus rapidement, avec la méthode f_oneway() du module scipy."
   ]
  },
  {
   "cell_type": "code",
   "execution_count": 16,
   "metadata": {},
   "outputs": [
    {
     "data": {
      "text/plain": [
       "F_onewayResult(statistic=3.059658266789707, pvalue=0.06821436223117218)"
      ]
     },
     "execution_count": 16,
     "metadata": {},
     "output_type": "execute_result"
    }
   ],
   "source": [
    "f_oneway(fruits, legumes, pains)"
   ]
  },
  {
   "cell_type": "markdown",
   "metadata": {},
   "source": [
    "### Restituer graphiquement le résultat\n",
    "\n",
    "Pour observer nos résultats et comprendre visuellement le résultat statistique qui indique que les moyennes sont différentes, nous allons importer deux autres modules en Python pour dessiner nos données."
   ]
  },
  {
   "cell_type": "code",
   "execution_count": 17,
   "metadata": {},
   "outputs": [],
   "source": [
    "import pandas as pd\n",
    "import matplotlib.pyplot as plt"
   ]
  },
  {
   "cell_type": "code",
   "execution_count": 18,
   "metadata": {},
   "outputs": [
    {
     "data": {
      "image/png": "[encoded data removed]",
      "text/plain": [
       "<Figure size 864x576 with 1 Axes>"
      ]
     },
     "metadata": {
      "needs_background": "light"
     },
     "output_type": "display_data"
    }
   ],
   "source": [
    "# Transformer en cadre de données\n",
    "df = pd.DataFrame(alldata.T, columns=['Fruits','Legumes','Pains'])\n",
    "# Dessiner un graphique de boîte à moustache\n",
    "boxplot = df.boxplot( figsize=(12, 8))\n",
    "# Sauvegarder vos boîtes à moustaches\n",
    "plt.savefig('image.png')"
   ]
  },
  {
   "cell_type": "markdown",
   "metadata": {},
   "source": [
    "Grâce à ce graphique qui représente en plus, très bien les quartiles, nous pouvons voir que les fruits contiennent une valeur aberrante, un outsider, très loin du reste du paquet de l’échantillon."
   ]
  },
  {
   "cell_type": "code",
   "execution_count": null,
   "metadata": {},
   "outputs": [],
   "source": []
  }
 ],
 "metadata": {
  "kernelspec": {
   "display_name": "Python 3",
   "language": "python",
   "name": "python3"
  },
  "language_info": {
   "codemirror_mode": {
    "name": "ipython",
    "version": 3
   },
   "file_extension": ".py",
   "mimetype": "text/x-python",
   "name": "python",
   "nbconvert_exporter": "python",
   "pygments_lexer": "ipython3",
   "version": "3.8.3"
  }
 },
 "nbformat": 4,
 "nbformat_minor": 4
}
