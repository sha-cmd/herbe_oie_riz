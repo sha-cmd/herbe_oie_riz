{
 "cells": [
  {
   "cell_type": "markdown",
   "metadata": {},
   "source": [
    "# \"Matrices\"\n",
    "> De la volute de fumée de cigarette, au vol des oiseaux, tout peut s’exprimer en matrice dans la nature.\n",
    "\n",
    "- categories: [math, matrices]\n",
    "- image: images/matrix/matrix.jpg\n",
    "- comments : true"
   ]
  },
  {
   "cell_type": "markdown",
   "metadata": {},
   "source": [
    "## Domaine\n",
    "Les matrices sont des objets mathématiques que l’on regroupe dans l’Algèbre Linéaire. Elles permettent d’exprimer des vecteurs dans des espaces à n dimensions. Un vecteur peut être une position, votre géolocalisation sur la Terre, ou tout simplement une information telle que votre rythme cardiaque ou votre revenu. C’est pour cela que notre monde à 3 dimensions spatiales et extensible peuvant recevoir autant de dimension que nécessaire pour décrire la position d’une position appelé vecteur dans un espace à n dimension.\n",
    "\n",
    "## Opérateur\n",
    "Quels sont les opérateurs des matrices :\n",
    "1. Le produit scalaire : équivalent d’une projection d’un premier vecteur, sur le second.\n",
    "2. Le produit vectoriel : c’est la recherche du vecteur perpendiculaire à un plan formé par deux vecteurs, dont la norme est aussi l’aire de ce plan.\n",
    "3. La norme : la racine de la somme des carrés des longueurs d’un vecteur sur chaque direction de l’espace à n dimension.\n",
    "4. Le déterminant : c’est une caractéristique quantitative des normes de vecteurs dans un espace à n dimensions. Si n vaut 2 ou 3, c’est l’aire ou le volume.\n",
    "5. Le vecteur unitaire : c’est un vecteur colinéaire et de même direction qu’un autre, mais sa norme vaut 1.\n",
    "6. Le valeur propre : coefficient d’étirement d’un vecteur propre, d’une application linéaire dans un espace vectoriel.\n",
    "7. La vecteur propre : vecteur qui est juste étiré ou raccourci lors d’une transformation linéaire dans un espace vectoriel."
   ]
  },
  {
   "cell_type": "markdown",
   "metadata": {},
   "source": [
    "## Utilisation de Python pour chaque opérateur\n",
    "Pour réaliser nos calculs nous aurons besoin de la bibliothèque numpy afin de construire nos tableaux de valeurs. Pour l’installation dans Jupyter-notebook, nous pouvons utiliser la commande suivante :"
   ]
  },
  {
   "cell_type": "code",
   "execution_count": null,
   "metadata": {},
   "outputs": [],
   "source": [
    "!pip install scipy numpy sympy"
   ]
  },
  {
   "cell_type": "markdown",
   "metadata": {},
   "source": [
    "### Chargement des bibliothèques"
   ]
  },
  {
   "cell_type": "code",
   "execution_count": 2,
   "metadata": {},
   "outputs": [],
   "source": [
    "import numpy as np\n",
    "from numpy import linalg as LA\n",
    "from numpy.linalg import eig\n",
    "from sympy import *"
   ]
  },
  {
   "cell_type": "markdown",
   "metadata": {},
   "source": [
    "### Produit scalaire"
   ]
  },
  {
   "cell_type": "code",
   "execution_count": 2,
   "metadata": {},
   "outputs": [
    {
     "data": {
      "text/plain": [
       "95"
      ]
     },
     "execution_count": 2,
     "metadata": {},
     "output_type": "execute_result"
    }
   ],
   "source": [
    "## Algèbre Linéaire\n",
    "### Produit scalaire: produit de deux vecteurs\n",
    "f = np.array([1,2,4,6,7])\n",
    "g = np.array([4,5,3,8,3])\n",
    "### 1*4+2*5+4*3+6*8+7*3\n",
    "np.dot(f, g)"
   ]
  },
  {
   "cell_type": "markdown",
   "metadata": {},
   "source": [
    "Dans l’étude du produit vectoriel et de la norme ci-dessous, nous considérons semblables les représentations géométriques et algébriques de vecteurs. Cela nous permet de dire que la norme d’un vecteur h par le produit vectoriel de deux vecteurs f, g est égale à l’aire du plan formé par ces deux derniers vecteurs."
   ]
  },
  {
   "cell_type": "markdown",
   "metadata": {},
   "source": [
    "### Produit vectoriel"
   ]
  },
  {
   "cell_type": "code",
   "execution_count": 3,
   "metadata": {},
   "outputs": [
    {
     "data": {
      "text/plain": [
       "array([ 6, -2, -4])"
      ]
     },
     "execution_count": 3,
     "metadata": {},
     "output_type": "execute_result"
    }
   ],
   "source": [
    "## Algèbre Linéaire\n",
    "### Produit vectoriel équivaut au produit extérieur: f x g = f ∧ g \n",
    "f = np.array([3,5,2])\n",
    "g = np.array([5,7,4])\n",
    "### i(5*4-7*2)+j(5*2-3*4)+k(3*7-5*5)\n",
    "np.cross(f, g)"
   ]
  },
  {
   "cell_type": "markdown",
   "metadata": {},
   "source": [
    "### Norme"
   ]
  },
  {
   "cell_type": "code",
   "execution_count": 4,
   "metadata": {},
   "outputs": [
    {
     "data": {
      "text/plain": [
       "12.0"
      ]
     },
     "execution_count": 4,
     "metadata": {},
     "output_type": "execute_result"
    }
   ],
   "source": [
    "## Algèbre Linéaire\n",
    "### Produit vectoriel équivaut au produit extérieur: f x g = f ∧ g soit le vecteur h\n",
    "f = np.array([3,5,2])\n",
    "g = np.array([5,7,4])\n",
    "### i(5*4-7*2)+j(5*2-3*4)+k(3*7-5*5)\n",
    "h = np.cross(f, g)\n",
    "### La norme de h vaut le produit extérieur f ∧ g\n",
    "LA.norm(h,1)"
   ]
  },
  {
   "cell_type": "markdown",
   "metadata": {},
   "source": [
    "### Le déterminant"
   ]
  },
  {
   "cell_type": "code",
   "execution_count": 5,
   "metadata": {},
   "outputs": [
    {
     "data": {
      "text/plain": [
       "10"
      ]
     },
     "execution_count": 5,
     "metadata": {},
     "output_type": "execute_result"
    }
   ],
   "source": [
    "## Le determinant d’une matrice carré par 2, [[a, b], [c, d]] est ad - bc:\n",
    "a = np.array(([1,2],[-3,4]))\n",
    "int(np.linalg.det(a))"
   ]
  },
  {
   "cell_type": "markdown",
   "metadata": {},
   "source": [
    "Nous pouvons tout à fait utiliser plutôt le module sympy et faire le calcul comme suivant."
   ]
  },
  {
   "cell_type": "code",
   "execution_count": 6,
   "metadata": {},
   "outputs": [
    {
     "data": {
      "text/latex": [
       "$\\displaystyle \\left[\\begin{matrix}1 & 2\\\\-3 & 4\\end{matrix}\\right]$"
      ],
      "text/plain": [
       "Matrix([\n",
       "[ 1, 2],\n",
       "[-3, 4]])"
      ]
     },
     "execution_count": 6,
     "metadata": {},
     "output_type": "execute_result"
    }
   ],
   "source": [
    "M = Matrix([[1,2],[-3,4]])\n",
    "M"
   ]
  },
  {
   "cell_type": "code",
   "execution_count": 7,
   "metadata": {},
   "outputs": [
    {
     "data": {
      "text/latex": [
       "$\\displaystyle 10$"
      ],
      "text/plain": [
       "10"
      ]
     },
     "execution_count": 7,
     "metadata": {},
     "output_type": "execute_result"
    }
   ],
   "source": [
    "M.det()"
   ]
  },
  {
   "cell_type": "markdown",
   "metadata": {},
   "source": [
    "### Le vecteur unitaire"
   ]
  },
  {
   "cell_type": "markdown",
   "metadata": {},
   "source": [
    "Le vecteur unitaire a une magnitude de 1, sa formule est $\\hat{v} = \\frac{1}{\\lvert\\lvert v \\rvert\\rvert}\\cdot v$ ."
   ]
  },
  {
   "cell_type": "code",
   "execution_count": 8,
   "metadata": {},
   "outputs": [
    {
     "data": {
      "text/plain": [
       "array([0.        , 0.4472136 , 0.89442719])"
      ]
     },
     "execution_count": 8,
     "metadata": {},
     "output_type": "execute_result"
    }
   ],
   "source": [
    "v = np.arange(3)\n",
    "v_hat = v / np.linalg.norm(v)\n",
    "v_hat"
   ]
  },
  {
   "cell_type": "markdown",
   "metadata": {},
   "source": [
    "### La valeur propre et le vecteur propre"
   ]
  },
  {
   "cell_type": "markdown",
   "metadata": {},
   "source": [
    "Dans une application linéaire, un vecteur propre est la transformation linéaire telle celle de la multiplication d’un vecteur par une valeur propre (scalaire).\n",
    "\n",
    "$T(v)=\\lambda v$\n",
    "\n",
    "En somme, pour une transformation donnée, c’est les vecteurs qui sont sur la ou les ligne(s) de transformation(s) et pour qui tout vecteur se trouvant dessus sera soit étiré soit réduit mais dont la direction ne changera pas."
   ]
  },
  {
   "cell_type": "code",
   "execution_count": 9,
   "metadata": {},
   "outputs": [
    {
     "name": "stdout",
     "output_type": "stream",
     "text": [
      "[11.  1.  2.]\n",
      "[[ 0.          0.          1.        ]\n",
      " [ 0.4472136   0.89442719  0.        ]\n",
      " [ 0.89442719 -0.4472136   0.        ]]\n"
     ]
    }
   ],
   "source": [
    "a = np.array([[2, 0, 0], [0, 3, 4], [0, 4, 9]])\n",
    "values , vectors = eig(a)\n",
    "print(values)\n",
    "print(vectors)"
   ]
  },
  {
   "cell_type": "markdown",
   "metadata": {},
   "source": [
    "De même, avec le module python sympy, nous pouvons déclarer une matrice M et exécuter les calculs."
   ]
  },
  {
   "cell_type": "code",
   "execution_count": 10,
   "metadata": {},
   "outputs": [
    {
     "data": {
      "text/latex": [
       "$\\displaystyle \\left[\\begin{matrix}2 & 0 & 0\\\\0 & 3 & 4\\\\0 & 4 & 9\\end{matrix}\\right]$"
      ],
      "text/plain": [
       "Matrix([\n",
       "[2, 0, 0],\n",
       "[0, 3, 4],\n",
       "[0, 4, 9]])"
      ]
     },
     "execution_count": 10,
     "metadata": {},
     "output_type": "execute_result"
    }
   ],
   "source": [
    "M = Matrix([[2, 0, 0], [0, 3, 4], [0, 4, 9]])\n",
    "M"
   ]
  },
  {
   "cell_type": "code",
   "execution_count": 11,
   "metadata": {},
   "outputs": [
    {
     "data": {
      "text/plain": [
       "{11: 1, 2: 1, 1: 1}"
      ]
     },
     "execution_count": 11,
     "metadata": {},
     "output_type": "execute_result"
    }
   ],
   "source": [
    "M.eigenvals()"
   ]
  },
  {
   "cell_type": "code",
   "execution_count": 12,
   "metadata": {},
   "outputs": [
    {
     "data": {
      "text/plain": [
       "[(1,\n",
       "  1,\n",
       "  [Matrix([\n",
       "   [ 0],\n",
       "   [-2],\n",
       "   [ 1]])]),\n",
       " (2,\n",
       "  1,\n",
       "  [Matrix([\n",
       "   [1],\n",
       "   [0],\n",
       "   [0]])]),\n",
       " (11,\n",
       "  1,\n",
       "  [Matrix([\n",
       "   [  0],\n",
       "   [1/2],\n",
       "   [  1]])])]"
      ]
     },
     "execution_count": 12,
     "metadata": {},
     "output_type": "execute_result"
    }
   ],
   "source": [
    "M.eigenvects()"
   ]
  },
  {
   "cell_type": "code",
   "execution_count": 3,
   "metadata": {},
   "outputs": [
    {
     "data": {
      "text/latex": [
       "$\\displaystyle \\left[\\begin{matrix}2 & 4\\\\3 & 13\\end{matrix}\\right]$"
      ],
      "text/plain": [
       "Matrix([\n",
       "[2,  4],\n",
       "[3, 13]])"
      ]
     },
     "execution_count": 3,
     "metadata": {},
     "output_type": "execute_result"
    }
   ],
   "source": [
    "M = Matrix([[2, 4], [3, 13]])\n",
    "M"
   ]
  },
  {
   "cell_type": "code",
   "execution_count": 4,
   "metadata": {},
   "outputs": [
    {
     "data": {
      "text/plain": [
       "{14: 1, 1: 1}"
      ]
     },
     "execution_count": 4,
     "metadata": {},
     "output_type": "execute_result"
    }
   ],
   "source": [
    "M.eigenvals()"
   ]
  },
  {
   "cell_type": "code",
   "execution_count": null,
   "metadata": {},
   "outputs": [],
   "source": []
  }
 ],
 "metadata": {
  "kernelspec": {
   "display_name": "Python 3",
   "language": "python",
   "name": "python3"
  },
  "language_info": {
   "codemirror_mode": {
    "name": "ipython",
    "version": 3
   },
   "file_extension": ".py",
   "mimetype": "text/x-python",
   "name": "python",
   "nbconvert_exporter": "python",
   "pygments_lexer": "ipython3",
   "version": "3.8.3"
  }
 },
 "nbformat": 4,
 "nbformat_minor": 4
}
